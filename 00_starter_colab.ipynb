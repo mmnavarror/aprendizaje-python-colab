{
  "cells": [
    {
      "cell_type": "markdown",
      "metadata": {
        "id": "view-in-github",
        "colab_type": "text"
      },
      "source": [
        "<a href=\"https://colab.research.google.com/github/mmnavarror/aprendizaje-python-colab/blob/main/00_starter_colab.ipynb\" target=\"_parent\"><img src=\"https://colab.research.google.com/assets/colab-badge.svg\" alt=\"Open In Colab\"/></a>"
      ]
    },
    {
      "cell_type": "markdown",
      "metadata": {
        "id": "iCYzrRAzia6u"
      },
      "source": [
        "# Bienvenida a tu cuaderno de aprendizaje en Colab\n",
        "\n",
        "Este notebook es tu punto de partida. Aquí verás:\n",
        "1. Verificación del entorno en Colab.\n",
        "2. Tu primer *print* en Python.\n",
        "3. Una **calculadora** con suma, resta, multiplicación y división.\n",
        "\n",
        "**Sugerencia:** ejecuta cada celda con `Shift+Enter`."
      ],
      "id": "iCYzrRAzia6u"
    },
    {
      "cell_type": "code",
      "execution_count": 1,
      "metadata": {
        "colab": {
          "base_uri": "https://localhost:8080/"
        },
        "id": "Rlq8nBOqia6y",
        "outputId": "27cc6d1f-fa40-4958-8d73-fd4fa615ab53"
      },
      "outputs": [
        {
          "output_type": "stream",
          "name": "stdout",
          "text": [
            "Versión de Python: 3.12.12 (main, Oct 10 2025, 08:52:57) [GCC 11.4.0]\n",
            "¡Hola, Margarita! Bienvenida a Python en Colab 🚀\n"
          ]
        }
      ],
      "source": [
        "import sys\n",
        "print('Versión de Python:', sys.version)\n",
        "print('¡Hola, Margarita! Bienvenida a Python en Colab 🚀')"
      ],
      "id": "Rlq8nBOqia6y"
    },
    {
      "cell_type": "markdown",
      "metadata": {
        "id": "jKiiu_D7ia61"
      },
      "source": [
        "## Funciones auxiliares\n",
        "Definimos funciones pequeñas y probamos cada una."
      ],
      "id": "jKiiu_D7ia61"
    },
    {
      "cell_type": "code",
      "execution_count": null,
      "metadata": {
        "id": "cNAioqAeia62"
      },
      "outputs": [],
      "source": [
        "def suma(a, b):\n",
        "    return a + b\n",
        "\n",
        "def resta(a, b):\n",
        "    return a - b\n",
        "\n",
        "def multiplica(a, b):\n",
        "    return a * b\n",
        "\n",
        "def divide(a, b):\n",
        "    # Manejo básico de error de división por cero\n",
        "    if b == 0:\n",
        "        raise ZeroDivisionError('No se puede dividir por cero')\n",
        "    return a / b\n",
        "\n",
        "# Pruebas rápidas\n",
        "assert suma(2,3) == 5\n",
        "assert resta(5,2) == 3\n",
        "assert multiplica(3,4) == 12\n",
        "try:\n",
        "    divide(4,0)\n",
        "except ZeroDivisionError:\n",
        "    print('División por cero correctamente detectada')\n",
        "print('Funciones probadas correctamente ✅')"
      ],
      "id": "cNAioqAeia62"
    },
    {
      "cell_type": "markdown",
      "metadata": {
        "id": "dKoguu_uia63"
      },
      "source": [
        "## Calculadora interactiva (v1)\n",
        "Menú de texto simple con manejo de errores. Usa `input()` para capturar números."
      ],
      "id": "dKoguu_uia63"
    },
    {
      "cell_type": "code",
      "execution_count": null,
      "metadata": {
        "id": "YgLQCbGnia63"
      },
      "outputs": [],
      "source": [
        "def leer_float(msg):\n",
        "    while True:\n",
        "        try:\n",
        "            return float(input(msg))\n",
        "        except ValueError:\n",
        "            print('Entrada no válida. Intenta nuevamente (usa punto para decimales).')\n",
        "\n",
        "def calculadora():\n",
        "    opciones = {\n",
        "        '1': ('Suma', suma),\n",
        "        '2': ('Resta', resta),\n",
        "        '3': ('Multiplicación', multiplica),\n",
        "        '4': ('División', divide),\n",
        "        '0': ('Salir', None)\n",
        "    }\n",
        "    while True:\n",
        "        print('\\n=== CALCULADORA ===')\n",
        "        for k,(nombre,_) in opciones.items():\n",
        "            print(f\"{k}. {nombre}\")\n",
        "        eleccion = input('Elige una opción: ').strip()\n",
        "        if eleccion == '0':\n",
        "            print('¡Hasta luego!')\n",
        "            break\n",
        "        if eleccion not in opciones:\n",
        "            print('Opción inválida.')\n",
        "            continue\n",
        "        a = leer_float('Ingresa el primer número: ')\n",
        "        b = leer_float('Ingresa el segundo número: ')\n",
        "        nombre, func = opciones[eleccion]\n",
        "        try:\n",
        "            resultado = func(a, b)\n",
        "            print(f'Resultado de {nombre}: {resultado}')\n",
        "        except Exception as e:\n",
        "            print('Error:', e)\n",
        "\n",
        "# Para usarla, descomenta la siguiente línea y ejecuta la celda.\n",
        "# calculadora()"
      ],
      "id": "YgLQCbGnia63"
    },
    {
      "cell_type": "markdown",
      "metadata": {
        "id": "g29WCgklia64"
      },
      "source": [
        "## Siguiente paso\n",
        "- Añadir **potenciación** y **raíz cuadrada** como operaciones opcionales.\n",
        "- Separar la interfaz (menú) de la lógica (funciones) aún más.\n",
        "- Escribir pruebas adicionales (más `assert`)."
      ],
      "id": "g29WCgklia64"
    },
    {
      "cell_type": "markdown",
      "metadata": {
        "id": "qskHm94aia65"
      },
      "source": [
        "## Lista de chequeo (día 1)\n",
        "- [ ] Ejecuté celdas con `Shift+Enter`.\n",
        "- [ ] Modifiqué un `print` y lo volví a ejecutar.\n",
        "- [ ] Agregué una nueva operación a la calculadora.\n",
        "- [ ] Escribí al menos **3** `assert` nuevos.\n",
        "- [ ] Registré mi avance en `plan_estudio_noviembre_2025.csv`."
      ],
      "id": "qskHm94aia65"
    }
  ],
  "metadata": {
    "kernelspec": {
      "display_name": "Python 3",
      "language": "python",
      "name": "python3"
    },
    "language_info": {
      "name": "python",
      "version": "3.x"
    },
    "colab": {
      "provenance": [],
      "include_colab_link": true
    }
  },
  "nbformat": 4,
  "nbformat_minor": 5
}